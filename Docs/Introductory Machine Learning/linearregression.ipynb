{
 "cells": [
  {
   "cell_type": "code",
   "execution_count": 1,
   "id": "environmental-porter",
   "metadata": {},
   "outputs": [],
   "source": [
    "%load_ext tikzmagic"
   ]
  },
  {
   "cell_type": "markdown",
   "id": "intensive-surge",
   "metadata": {},
   "source": [
    "---\n",
    "slug: \"/blog/linearregression\"\n",
    "date: \"2021-03-15\"\n",
    "title: \"Linear Regression\"\n",
    "category: \"1 Machine Learning\"\n",
    "order: 1\n",
    "---"
   ]
  },
  {
   "cell_type": "markdown",
   "id": "decent-moisture",
   "metadata": {},
   "source": [
    "### Introduction\n",
    "\n",
    "Linear regression is a parametric regression method that is used to estimate real-valued outputs given real-valued input vectors. \n",
    "In this post, mean squared error is used as a loss function and gradient descent (or batched gradient descent) is used to learn parameters.\n",
    "\n",
    "The computation graph below shows how linear regression works. \n",
    "The dot product of each input, a vector $\\vec{x}$ of size $D$, and weight vector $\\vec{w}$ transposed is taken to produce the output $h(x)$. \n",
    "The loss is then calculated by calculating the mean squared error using $y$ and output $h(x)$.\n",
    "\n",
    "The bias term $\\beta$ is ignored for the purposes of this post, but can easily be appended to weight vector $\\vec{w}$ after appending a $1$ to an input vector $\\vec{x}$."
   ]
  },
  {
   "cell_type": "code",
   "execution_count": 2,
   "id": "fifth-relevance",
   "metadata": {},
   "outputs": [
    {
     "data": {
      "image/png": "[encoded data removed]"
     },
     "metadata": {},
     "output_type": "display_data"
    }
   ],
   "source": [
    "%%tikz -s 300,300 -sc 2\n",
    "\\node[draw, circle, minimum width=3em] (x) at (0, 1) {$x$};\n",
    "\\node[draw, circle, minimum width=3em] (hx) at (1, 1) {$h(x)$};\n",
    "\\node[draw, circle, minimum width=3em] (y) at (1, 0) {$y$};\n",
    "\\node[draw, circle, minimum width=3em] (l) at (2, 1) {$L$};\n",
    "\\draw[->] (x) edge node[midway, above] {$w$} (hx);\n",
    "\\draw[->] (hx) -- (l);\n",
    "\\draw[->] (y) -- (l);"
   ]
  },
  {
   "cell_type": "markdown",
   "id": "surface-welsh",
   "metadata": {},
   "source": [
    "### Learning\n",
    "\n",
    "Given a data set $X$ of size $N$ with $D$ dimensions, parameters $w$ must be learned that minimize our loss function $L_{MSE}(y, \\hat{y})$.\n",
    "The weight vector is learned using gradient descent.\n",
    "The derivation for term $\\frac{\\partial L}{\\partial w}$ in the weight update is displayed in the derivations section of this post.\n",
    "\n",
    "$$\n",
    "\\begin{aligned}\n",
    "        h(x) &= w^T \\cdot x & \\text{[Prediction]}\\\\\n",
    "        L_{\\text{MSE}}(y, \\hat{y}) &= \\frac{1}{N}\\sum^N_{i=1} (y-\\hat{y})^2  &\\text{[Mean squared error]}\\\\\n",
    "        w_i &= w_i - \\alpha \\frac{\\partial L}{\\partial w_i} & \\text{[Weight update]}\\\\\n",
    "        &= w_i - \\alpha \\left[x_i(y - h(x))\\right] &\\\\\n",
    "        w_i &= w_i - \\alpha \\frac{1}{B}\\sum^{B}_{j=1} x_{j,i} (y-h(x)) & \\text{[Batch weight update]}\\\\\n",
    "\\end{aligned}\n",
    "$$"
   ]
  },
  {
   "cell_type": "markdown",
   "id": "altered-metabolism",
   "metadata": {},
   "source": [
    "### Code\n",
    "\n",
    "Code for a linear regressor class is shown in the block below"
   ]
  },
  {
   "cell_type": "code",
   "execution_count": 3,
   "id": "premier-following",
   "metadata": {},
   "outputs": [],
   "source": [
    "from typing import List\n",
    "from tqdm import trange\n",
    "import torch\n",
    "\n",
    "\n",
    "def MeanSquaredError(y: torch.Tensor, yhat: torch.Tensor) -> float:\n",
    "    \"\"\" Calculate mean squared error rate\n",
    "\n",
    "    Args:\n",
    "        y: true labels\n",
    "        yhat: predicted labels\n",
    "\n",
    "    Returns:\n",
    "        mean squared error        \n",
    "    \"\"\"\n",
    "\n",
    "    return torch.sum((y - yhat)**2) / y.shape[0]\n",
    "\n",
    "\n",
    "class LinearRegressor:\n",
    "\n",
    "\n",
    "    def __init__(self) -> None:\n",
    "        \"\"\" Instantiate linear regressor \n",
    "        \"\"\"\n",
    "\n",
    "        self.w = None\n",
    "        self.calcError = MeanSquaredError\n",
    "\n",
    "\n",
    "    def fit(self, x: torch.Tensor, y: torch.Tensor, alpha: float=0.00001, epochs: int=1000, batch: int=32) -> None:\n",
    "        \"\"\" Fit logistic regression classifier to data set\n",
    "\n",
    "        Args:\n",
    "            x: input data\n",
    "            y: input labels\n",
    "            alpha: alpha parameter for weight update\n",
    "            epochs: number of epochs to train\n",
    "            batch: size of batches for training\n",
    "        \"\"\"\n",
    "\n",
    "        self.w = torch.zeros((1, x.shape[1]))\n",
    "\n",
    "        epochs = trange(epochs, desc='Error')\n",
    "        for epoch in epochs:\n",
    "\n",
    "            start, end = 0, batch\n",
    "            for b in range((x.shape[0]//batch)+1):\n",
    "                hx = self.predict(x[start:end])\n",
    "                dw = self.calcGradient(x[start:end], y[start:end], hx)\n",
    "                self.w = self.w - (alpha * dw)\n",
    "                start += batch\n",
    "                end += batch\n",
    "\n",
    "            hx = self.predict(x)\n",
    "            error = self.calcError(y, hx)\n",
    "            epochs.set_description('MSE: %.4f' % error)\n",
    "\n",
    "\n",
    "    def predict(self, x: torch.Tensor) -> torch.Tensor:\n",
    "        \"\"\" Predict output values \n",
    "\n",
    "        Args:\n",
    "            x: input data\n",
    "\n",
    "        Returns:\n",
    "            regression output for each member of input\n",
    "        \"\"\"\n",
    "\n",
    "\n",
    "        return torch.einsum('ij,kj->i', x, self.w)\n",
    "\n",
    "\n",
    "    def calcGradient(self, x: torch.Tensor, y: torch.tensor, hx: torch.Tensor) -> torch.Tensor:\n",
    "        \"\"\" Calculate weight gradient\n",
    "\n",
    "        Args:\n",
    "            x: input data\n",
    "            y: input labels\n",
    "            hx: predicted output\n",
    "\n",
    "        Returns:\n",
    "            tensor of gradient values the same size as weights\n",
    "        \"\"\"\n",
    "\n",
    "        return torch.einsum('ij,i->j', -x, (y - hx)) / x.shape[0]"
   ]
  },
  {
   "cell_type": "markdown",
   "id": "located-filling",
   "metadata": {},
   "source": [
    "### Derivations\n",
    "\n",
    "Derivative of loss function $L$ with respect to the regression output $h(x)$:\n",
    "\n",
    "$$\n",
    "\\begin{aligned}\n",
    "    \\frac{\\partial L}{\\partial h(x)} &= \\frac{\\partial}{\\partial h(x)} (y - h(x))^2 \\\\\n",
    "    &= 2(y - h(x))\n",
    "\\end{aligned}\n",
    "$$\n",
    "\n",
    "Derivative of regression output $h(x)$ with respect to weight $w_i$:\n",
    "\n",
    "$$\n",
    "\\begin{aligned}\n",
    "    \\frac{\\partial h(x)}{\\partial w_i} &= \\frac{\\partial}{\\partial w_i} \\sum^D_{j=1} w_j \\times x_j\\\\\n",
    "    &= x_i\n",
    "\\end{aligned}\n",
    "$$\n",
    "\n",
    "Derivative of loss function $L$ with respect to weight $w_i$:\n",
    "\n",
    "$$\n",
    "\\begin{aligned}\n",
    "    \\frac{\\partial L}{\\partial w_i} &= \\frac{\\partial h(x)}{\\partial w}\\frac{\\partial L}{\\partial h(x)}\\\\\n",
    "    &= 2x_i(y-h(x)) \\\\\n",
    "    &\\propto x_i(y-h(x))\\\\\n",
    "\\end{aligned}\n",
    "$$"
   ]
  },
  {
   "cell_type": "markdown",
   "id": "attached-north",
   "metadata": {},
   "source": [
    "### Resources\n",
    "- Russell, Stuart J., et al. Artificial Intelligence: A Modern Approach. 3rd ed, Prentice Hall, 2010.\n",
    "- Burkov, Andriy. The Hundred Page Machine Learning Book. 2019."
   ]
  }
 ],
 "metadata": {
  "kernelspec": {
   "display_name": "Python 3",
   "language": "python",
   "name": "python3"
  },
  "language_info": {
   "codemirror_mode": {
    "name": "ipython",
    "version": 3
   },
   "file_extension": ".py",
   "mimetype": "text/x-python",
   "name": "python",
   "nbconvert_exporter": "python",
   "pygments_lexer": "ipython3",
   "version": "3.8.5"
  }
 },
 "nbformat": 4,
 "nbformat_minor": 5
}
