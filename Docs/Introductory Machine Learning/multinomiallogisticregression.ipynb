{
 "cells": [
  {
   "cell_type": "code",
   "execution_count": 1,
   "id": "primary-nelson",
   "metadata": {},
   "outputs": [],
   "source": [
    "%load_ext tikzmagic"
   ]
  },
  {
   "cell_type": "markdown",
   "id": "endless-acting",
   "metadata": {},
   "source": [
    "---\n",
    "slug: \"/blog/softmaxregression\"\n",
    "date: \"2021-03-15\"\n",
    "title: \"Multinomial Logistic Regression (Softmax Regression)\"\n",
    "category: \"Machine Learning\"\n",
    "order: 3\n",
    "---"
   ]
  },
  {
   "cell_type": "markdown",
   "id": "unexpected-assignment",
   "metadata": {},
   "source": [
    "### Introduction"
   ]
  },
  {
   "cell_type": "markdown",
   "id": "martial-fraction",
   "metadata": {},
   "source": [
    "Softmax regression is a parametric classification method that is used to estimate multiclass output given real-valued input vectors.\n",
    "In this post, cross entropy loss is used as the loss function and gradient descent (or batched gradient descent) is used to learn parameters.\n",
    "\n",
    "The computation graph below shows how softmax regression works. The dot product of each input $\\vec{x}$, and each vector $\\vec{w}$ for each of $K$ classes is taken, resulting in values $z_1$ to $z_k$.\n",
    "The softmax function is applied to then new vector $\\vec{z}$, composed of $[z_1, z_2, ..., z_K]$.\n",
    "The loss is then calculated using the cross entropy loss on label vector $\\vec{y}$ and $\\vec{z}$."
   ]
  },
  {
   "cell_type": "code",
   "execution_count": 2,
   "id": "bibliographic-leadership",
   "metadata": {},
   "outputs": [
    {
     "data": {
      "image/png": "[encoded data removed]"
     },
     "metadata": {},
     "output_type": "display_data"
    }
   ],
   "source": [
    "%%tikz -s 400,300 -sc=2\n",
    "\\node[draw, circle, minimum width=3em] (x) at (0, 0) {$x$};\n",
    "\\node[draw, circle, minimum width=3em] (z1) at (1, 2) {$z_1$};\n",
    "\\node[draw, circle, minimum width=3em] (z2) at (1, 1) {$z_2$};\n",
    "\\node[draw, circle, minimum width=3em] (zk) at (1, -1) {$z_K$};\n",
    "\\node[draw, circle, minimum width=3em] (sz1) at (2, 2) {$s(z_1)$};\n",
    "\\node[draw, circle, minimum width=3em] (sz2) at (2, 1) {$s(z_2)$};\n",
    "\\node[draw, circle, minimum width=3em] (szk) at (2, -1) {$s(z_K)$};\n",
    "\\node[draw, circle, minimum width=3em] (y) at (3, -.5) {$y$};\n",
    "\\node[draw, circle, minimum width=3em] (l) at (4, .5) {$L$};\n",
    "\\node[] (sm) at (2, 2.75) {Softmax};\n",
    "\\draw (1.5, 2.5) rectangle (2.5, -1.5);\n",
    "\\draw[->] (x) edge node[above, left] {$w_1$} (z1);\n",
    "\\draw[->] (x) edge node[below, right] {$w_2$} (z2);\n",
    "\\draw[->] (x) edge node[below, left] {$w_K$} (zk);\n",
    "\\draw[->] (z1) to (1.5, 2);\n",
    "\\draw[->] (z2) to (1.5, 1);\n",
    "\\draw[->] (zk) to (1.5, -1);\n",
    "\\draw[->] (2.5, .5) to (l);\n",
    "\\draw[->] (y) to (l);\n",
    "\\draw[dotted, line width=1pt] (z2) to (zk);\n",
    "\\draw[dotted, line width=1pt] (sz2) to (szk);"
   ]
  },
  {
   "cell_type": "markdown",
   "id": "acute-boost",
   "metadata": {},
   "source": [
    "### Learning"
   ]
  },
  {
   "cell_type": "markdown",
   "id": "seven-czech",
   "metadata": {},
   "source": [
    "Given a data set X of size $N$ with $D$ dimensions, parameters $w$ must be learned for each of $K$ classes that minimize our loss function $L_{\\text{CE}}(y, \\hat{y})$.\n",
    "The weight vectors are learned using gradient descent.\n",
    "The derivation for term $\\frac{\\partial L}{\\partial w_i}$ in the weight update is displayed in the derivations section of this post."
   ]
  },
  {
   "cell_type": "markdown",
   "id": "inclusive-motivation",
   "metadata": {},
   "source": [
    "$$\n",
    "\\begin{aligned}\n",
    "    s(z_i) &= \\frac{e^{z_i}}{\\sum^{K}_{i=1}e^{z_i}} & \\text{[Softmax function]}\\\\\n",
    "    L_{\\text{CE}}(y, \\hat{y}) &= -\\left[y\\log\\hat{y}\\right]& \\text{[Cross entropy loss]}\\\\\n",
    "    w_i &= w_i - \\alpha \\frac{\\partial L}{\\partial w} & \\text{[Weight update]}\\\\\n",
    "    &= w_i - \\alpha \\left[x_i (s(z_i) - y_i) \\right] &\\\\\n",
    "    w_i &= w_i - \\alpha \\frac{1}{B}\\sum^B_{j=1} \\left[x_{j,i} (s(z_{j,i}) - y_{j,i}) \\right] & \\text{[Batch weight update]}\\\\\n",
    "\\end{aligned}\n",
    "$$"
   ]
  },
  {
   "cell_type": "markdown",
   "id": "narrow-median",
   "metadata": {},
   "source": [
    "### Code"
   ]
  },
  {
   "cell_type": "markdown",
   "id": "difficult-novel",
   "metadata": {},
   "source": [
    "Code for a softmax regression classifier is shown in the block below"
   ]
  },
  {
   "cell_type": "code",
   "execution_count": 3,
   "id": "massive-decrease",
   "metadata": {},
   "outputs": [],
   "source": [
    "from typing import List\n",
    "from tqdm import trange\n",
    "import torch\n",
    "\n",
    "def Softmax(x: torch.Tensor) -> torch.Tensor:\n",
    "    \"\"\" Apply softmax function to tensor\n",
    "\n",
    "    Args:\n",
    "        x: input tensor\n",
    "\n",
    "    Returns:\n",
    "        tensor with softmax function applied to all members\n",
    "    \"\"\"\n",
    "\n",
    "    return torch.exp(x) / torch.sum(torch.exp(x), dim=1)[:, None]\n",
    "\n",
    "\n",
    "def OneHotErrorRate(y: torch.Tensor, yhat: torch.Tensor) -> torch.Tensor:\n",
    "    \"\"\" Calculate error rate for one-hot encoded multiclass problem\n",
    "\n",
    "    Args:\n",
    "        y: true labels\n",
    "        yhat: predicted labels\n",
    "\n",
    "    Returns:\n",
    "        error rate\n",
    "    \"\"\"\n",
    "\n",
    "    return ErrorRate(torch.argmax(y, dim=1), torch.argmax(yhat, dim=1))\n",
    "\n",
    "class SoftmaxRegressionClassifier:\n",
    "\n",
    "\n",
    "    def __init__(self) -> None:\n",
    "        \"\"\" Instantiate softmax regression classifier\n",
    "        \"\"\"\n",
    "\n",
    "        self.w = None\n",
    "        self.calcError = OneHotErrorRate\n",
    "\n",
    "\n",
    "    def fit(self, x, y, alpha=1e-4, epochs=1000, batch=32):\n",
    "        \"\"\" Fit logistic regression classifier to dataset\n",
    "\n",
    "        Args:\n",
    "            x: input data\n",
    "            y: input labels\n",
    "            alpha: alpha parameter for weight update\n",
    "            epochs: number of epochs to train\n",
    "            batch: size of batches for training\n",
    "        \"\"\"\n",
    "\n",
    "        y = torch.Tensor(createOneHotColumn(y.numpy())[0])\n",
    "        self.w = torch.rand((y.shape[1], x.shape[1]))\n",
    "\n",
    "        epochs = trange(epochs, desc='Accuracy')\n",
    "        for epoch in epochs:\n",
    "\n",
    "            rargs = torch.randperm(x.shape[0])\n",
    "            x, y = x[rargs], y[rargs]\n",
    "\n",
    "            start, end = 0, batch\n",
    "            for b in range((x.shape[0]//batch)+1):\n",
    "                if start < x.shape[0]:\n",
    "                    sz = self.probs(x[start:end]) \n",
    "                    dw = self.calcGradient(x[start:end], y[start:end], sz)\n",
    "                    self.w = self.w - alpha * dw\n",
    "\n",
    "                start += batch\n",
    "                end += batch\n",
    "\n",
    "            sz = self.probs(x)\n",
    "            accuracy = 1 - self.calcError(y, sz)\n",
    "            epochs.set_description('Accuracy: %.4f' % accuracy)\n",
    "\n",
    "\n",
    "    def probs(self, x: torch.Tensor) -> torch.Tensor:\n",
    "        \"\"\" Predict probabilities of belonging to each class\n",
    "\n",
    "        Args:\n",
    "            x: input data\n",
    "\n",
    "        Returns:\n",
    "            probabilities for each member of input\n",
    "        \"\"\"\n",
    "\n",
    "        return Softmax(torch.einsum('ij,kj->ik', x, self.w))\n",
    "\n",
    "\n",
    "    def predict(self, x: torch.Tensor) -> torch.Tensor:\n",
    "        \"\"\" Predict labels\n",
    "\n",
    "        Args:\n",
    "            x: input data\n",
    "\n",
    "        Returns:\n",
    "            labels for each member of input\n",
    "        \"\"\"\n",
    "\n",
    "        hx = self.probs(x)\n",
    "        return torch.argmax(hx, dim=1)[:, None]\n",
    "\n",
    "\n",
    "    def calcGradient(self, x: torch.Tensor, y: torch.Tensor, probs: torch.Tensor) -> torch.Tensor:\n",
    "        \"\"\" Calculate weight gradient\n",
    "\n",
    "        Args:\n",
    "            x: input data\n",
    "            y: input labels\n",
    "            probs: predicted probabilities\n",
    "\n",
    "        Returns:\n",
    "            tensor of gradient values the same size as weights\n",
    "        \"\"\"\n",
    "\n",
    "        return torch.einsum('ij,ik->jk', probs - y , x) / x.shape[0]\n",
    "\n"
   ]
  },
  {
   "cell_type": "markdown",
   "id": "threaded-cross",
   "metadata": {},
   "source": [
    "### Derivations"
   ]
  },
  {
   "cell_type": "markdown",
   "id": "skilled-convergence",
   "metadata": {},
   "source": [
    "Derivative of arbitrary sigmoid output $s(z_j)$ with respect to arbitrary linear combination output $z_i$:\n",
    "\n",
    "$$\n",
    "\\begin{aligned}\n",
    "    \\frac{\\partial s(z_j) }{\\partial z_i} &= \\frac{\\partial}{\\partial z_i} \\frac{e^{z_j}}{\\sum^{K}_{k=1}e^{z_k}}\\\\\\\\\n",
    "    &= \\frac{\\frac{\\partial}{\\partial z_i} e^{z_j} (\\sum^{K}_{k=1}e^{z_k}) - e^{z_j} (\\frac{\\partial}{\\partial z_i} \\sum^{K}_{k=1}e^{z_k})}{(\\sum^{K}_{k=1}e^{z_k})^2}\\\\\\\\\n",
    "    &= \n",
    "    \\begin{cases}\n",
    "        \\frac{\\frac{\\partial}{\\partial z_i} e^{z_j} (\\sum^{K}_{k=1}e^{z_k}) - e^{z_j} (\\frac{\\partial}{\\partial z_i} \\sum^{K}_{k=1}e^{z_k})}{(\\sum^{K}_{k=1}e^{z_k})^2} & i = j\\\\\\\\\n",
    "        \\frac{\\frac{\\partial}{\\partial z_i} e^{z_j} (\\sum^{K}_{k=1}e^{z_k}) - e^{z_j} (\\frac{\\partial}{\\partial z_i} \\sum^{K}_{k=1}e^{z_k})}{(\\sum^{K}_{k=1}e^{z_k})^2} & i \\neq j\\\\\n",
    "    \\end{cases}\\\\\\\\\n",
    "    &=\n",
    "    \\begin{cases}\n",
    "        \\frac{e^{z_i} (\\sum^{K}_{k=1}e^{z_k}) - (e^{z_i})^2 }{(\\sum^{K}_{k=1}e^{z_k})^2} & i = j\\\\\\\\\n",
    "        \\frac{0 - e^{z_j}e^{z_i} }{(\\sum^{K}_{k=1}e^{z_k})^2} & i \\neq j\\\\\n",
    "    \\end{cases}\\\\\\\\\n",
    "    &=\n",
    "    \\begin{cases}\n",
    "        s(z_i)(1 - s(z_i)) & i = j\\\\\n",
    "        -s(z_j)s(z_i) & i \\neq j\\\\\n",
    "    \\end{cases}\\\\\\\\\n",
    "    &= s(z_i)(\\delta_{i,j} - s(z_j)) \\\\\n",
    "\\end{aligned}\n",
    "$$\n",
    "\n",
    "Derivative of loss function $L$ with respect to arbitrary linear combination output $z_i$:\n",
    "\n",
    "$$\n",
    "\\begin{aligned}\n",
    "    \\frac{\\partial L}{\\partial z_i} &= - \\sum^{K}_{k=1} y_k \\log s(z_k) \\\\\n",
    "    &= - \\left[ \\frac{y_i}{s(z_i)}s(z_i)(1 - s(z_i)) - \\sum^{K}_{k\\neq i} \\frac{y_k}{s(z_k)}(s(z_k)s(z_i))  \\right]\\\\\\\\\n",
    "    &= - \\left[ y_i(1 - s(z_i)) - \\sum^{K}_{k\\neq i} y_k s(z_i) \\right]\\\\\\\\\n",
    "    &= - \\left[ y_i - s(z_i) y_i  - \\sum^{K}_{k\\neq i} s(z_i) y_k  \\right]\\\\\\\\\n",
    "    &= - \\left[ y_i - \\sum^{K}_{k=1}  s(z_i) y_k \\right]\\\\\\\\\n",
    "    &= - \\left[ y_i - s(z_i) \\sum^{K}_{k=1}  y_k \\right]\\\\\\\\\n",
    "    &= s(z_i) - y_i\\\\\\\\\n",
    "\\end{aligned}\n",
    "$$\n",
    "\n",
    "Derivative of weight $w_i$ with respect to linear combination $z_i$:\n",
    "\n",
    "$$\n",
    "\\begin{aligned}\n",
    "    \\frac{\\partial z_i}{\\partial w_i} &= \\frac{\\partial}{\\partial w_i} w_i \\times x_i\\\\\n",
    "    &= x_i\n",
    "\\end{aligned}\n",
    "$$\n",
    "\n",
    "Derivative of weight $w_i$ with respect to loss:\n",
    "\n",
    "$$\n",
    "\\begin{aligned}\n",
    "    \\frac{\\partial L}{\\partial w_i} &= \\frac{\\partial z_i}{\\partial w_i}\\frac{\\partial L}{\\partial z_i}\\\\\n",
    "    &= x_i (s(z_i) - y_i)\\\\\n",
    "\\end{aligned}\n",
    "$$"
   ]
  },
  {
   "cell_type": "markdown",
   "id": "interior-physiology",
   "metadata": {},
   "source": [
    "### Resources\n",
    "- Jurafsky, Daniel, and James H. Martin. Speech and Language Processing: An Introduction to Natural Language Processing, Computational Linguistics, and Speech Recognition. Pearson, 2020.\n",
    "- Bendersky, Eli. “The Softmax Function and Its Derivative.” Eli Bendersky’s Website. 2016. https://eli.thegreenplace.net/2016/the-softmax-function-and-its-derivative/. Accessed 17 Mar. 2021."
   ]
  }
 ],
 "metadata": {
  "kernelspec": {
   "display_name": "Python 3",
   "language": "python",
   "name": "python3"
  },
  "language_info": {
   "codemirror_mode": {
    "name": "ipython",
    "version": 3
   },
   "file_extension": ".py",
   "mimetype": "text/x-python",
   "name": "python",
   "nbconvert_exporter": "python",
   "pygments_lexer": "ipython3",
   "version": "3.8.5"
  }
 },
 "nbformat": 4,
 "nbformat_minor": 5
}
