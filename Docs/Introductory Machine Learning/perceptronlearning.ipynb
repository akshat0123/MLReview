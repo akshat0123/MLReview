{
 "cells": [
  {
   "cell_type": "code",
   "execution_count": 1,
   "id": "alike-green",
   "metadata": {},
   "outputs": [],
   "source": [
    "%load_ext tikzmagic"
   ]
  },
  {
   "cell_type": "markdown",
   "id": "photographic-memphis",
   "metadata": {},
   "source": [
    "---\n",
    "slug: \"/blog/perceptronlearning\"\n",
    "date: \"2021-03-15\"\n",
    "title: \"Perceptron Learning\"\n",
    "category: \"1 Machine Learning\"\n",
    "order: 4\n",
    "---"
   ]
  },
  {
   "cell_type": "markdown",
   "id": "subjective-poster",
   "metadata": {},
   "source": [
    "### Introduction"
   ]
  },
  {
   "cell_type": "markdown",
   "id": "physical-andrew",
   "metadata": {},
   "source": [
    "The perceptron learning algorithm is a parametric method for binary classification that is widely known as the precursor to neural networks.\n",
    "The computation graph below shows how the model works.\n",
    "The dot product of input $x$ and weight vector $w$ is taken and input into the binary step function $b(x)$."
   ]
  },
  {
   "cell_type": "code",
   "execution_count": 2,
   "id": "standard-hacker",
   "metadata": {},
   "outputs": [
    {
     "data": {
      "image/png": "[encoded data removed]"
     },
     "metadata": {},
     "output_type": "display_data"
    }
   ],
   "source": [
    "%%tikz -s=400,200 -sc=2\n",
    "\\node[draw, circle] (x) at (0, 0) {$x$};\n",
    "\\node[draw, circle] (z) at (1, 0) {$z$};\n",
    "\\node[draw, circle] (bz) at (2, 0) {$b(z)$};\n",
    "\\node[draw, circle] (l) at (3, 0) {$L$};\n",
    "\\node[draw, circle] (y) at (2, -1) {$y$};\n",
    "\\draw[->] (x) edge node[midway, above] {$w$} (z);\n",
    "\\draw[->] (z) -- (bz);\n",
    "\\draw[->] (bz) -- (l);\n",
    "\\draw[->] (y) -- (l);"
   ]
  },
  {
   "cell_type": "markdown",
   "id": "trying-institution",
   "metadata": {},
   "source": [
    "### Learning"
   ]
  },
  {
   "cell_type": "markdown",
   "id": "czech-shareware",
   "metadata": {},
   "source": [
    "Given data set $X$ of size $N$ with $D$ dimensions, parameters $w$ are learned using the perceptron learning rule.\n",
    "Because is almost always zero, the update rule is not defined in the way we defined the update for the logistic regression weight update rule."
   ]
  },
  {
   "cell_type": "markdown",
   "id": "subsequent-details",
   "metadata": {},
   "source": [
    "$$\n",
    "\\begin{aligned}\n",
    "    y &\\in \\{-1, 1\\} \\\\\n",
    "    %\n",
    "    h(z) &= \n",
    "    \\begin{cases} \n",
    "        1 & x \\geq 0\\\\ \n",
    "        0 & x < 0 \n",
    "    \\end{cases} &\n",
    "    \\text{[Threshold function}]\\\\\n",
    "    %\n",
    "    w_i &=\n",
    "    w_i + \\alpha (y - h(z))x_i &\n",
    "    \\text{[Perceptron learning rule]}\\\\\n",
    "\\end{aligned}\n",
    "$$"
   ]
  },
  {
   "cell_type": "markdown",
   "id": "marine-large",
   "metadata": {},
   "source": [
    "### Code"
   ]
  },
  {
   "cell_type": "markdown",
   "id": "pointed-clause",
   "metadata": {},
   "source": [
    "Code for a Perceptron classifier is shown in the block below"
   ]
  },
  {
   "cell_type": "code",
   "execution_count": 3,
   "id": "seven-formula",
   "metadata": {},
   "outputs": [],
   "source": [
    "from typing import List\n",
    "from tqdm import trange\n",
    "import torch\n",
    "\n",
    "\n",
    "def BinaryStep(x: torch.Tensor) -> torch.Tensor:\n",
    "    \"\"\" Apply binary step function to tensor\n",
    "\n",
    "    Args:\n",
    "        x: input tensor\n",
    "\n",
    "    Returns:\n",
    "        tensor with binary step function applied to all members\n",
    "    \"\"\"        \n",
    "\n",
    "    x[x >= 0] = 1\n",
    "    x[x < 0] = 0\n",
    "    return x\n",
    "\n",
    "\n",
    "def ErrorRate(y: torch.Tensor, yhat: torch.Tensor) -> float:\n",
    "    \"\"\" Calculate error rate (1 - accuracy)\n",
    "\n",
    "    Args:\n",
    "        y: true labels\n",
    "        yhat: predicted labels\n",
    "\n",
    "    Returns:\n",
    "        error rate\n",
    "    \"\"\"\n",
    "\n",
    "    return torch.sum((y != yhat).float()) / y.shape[0]\n",
    "\n",
    "\n",
    "class Perceptron:\n",
    "\n",
    "\n",
    "    def __init__(self):\n",
    "        \"\"\" Instantiate perceptron classifier\n",
    "        \"\"\"\n",
    "\n",
    "        self.w = None\n",
    "        self.calcError = ErrorRate\n",
    "\n",
    "\n",
    "    def fit(self, x: torch.Tensor, y: torch.Tensor, alpha: float=0.001, epochs: int=100) -> None:\n",
    "        \"\"\" Fit perceptron classifier to dataset\n",
    "\n",
    "        Args:\n",
    "            x: input data\n",
    "            y: input labels\n",
    "            alpha: alpha parameter for weight update\n",
    "            epochs: number of epochs to train\n",
    "        \"\"\"\n",
    "\n",
    "        self.w = torch.rand((1, x.shape[1]))\n",
    "\n",
    "        epochs = trange(epochs, desc='Error')\n",
    "        for epoch in epochs:\n",
    "            for ridx in range(x.shape[0]):\n",
    "                hz = self.predict(x[ridx][None, :])[0]\n",
    "                dw = self.calcPerceptronUpdate(x[ridx][None, :], hz, y[ridx])\n",
    "                self.w = self.w + alpha * dw\n",
    "\n",
    "            ypred = self.predict(x)\n",
    "            error = ErrorRate(y, ypred)\n",
    "            epochs.set_description('Err: %.4f' % error)\n",
    "\n",
    "\n",
    "    def predict(self, x: torch.Tensor):\n",
    "        \"\"\" Predict labels\n",
    "\n",
    "        Args:\n",
    "            x: input data\n",
    "\n",
    "        Returns:\n",
    "            labels for each member of input\n",
    "        \"\"\"\n",
    "\n",
    "        z = torch.einsum('ij,kj->i', x, self.w)\n",
    "        hz = BinaryStep(z)[:, None]\n",
    "\n",
    "        return hz\n",
    "\n",
    "\n",
    "    def calcPerceptronUpdate(self, x: torch.Tensor, hx: torch.Tensor, y: torch.Tensor) -> torch.Tensor:\n",
    "        \"\"\" Calculate perceptron update\n",
    "\n",
    "        Args:\n",
    "            x: input data\n",
    "            y: input labels\n",
    "            hx: predicted labels\n",
    "\n",
    "        Returns:\n",
    "            tensor of weight update values the same size as weights\n",
    "        \"\"\"\n",
    "\n",
    "        return (y - hx) * x"
   ]
  },
  {
   "cell_type": "markdown",
   "id": "perfect-offering",
   "metadata": {},
   "source": [
    "### Resources\n",
    "\n",
    "- Russell, Stuart J., et al. *Artificial Intelligence: A Modern Approach*. 3rd ed, Prentice Hall, 2010."
   ]
  }
 ],
 "metadata": {
  "kernelspec": {
   "display_name": "Python 3",
   "language": "python",
   "name": "python3"
  },
  "language_info": {
   "codemirror_mode": {
    "name": "ipython",
    "version": 3
   },
   "file_extension": ".py",
   "mimetype": "text/x-python",
   "name": "python",
   "nbconvert_exporter": "python",
   "pygments_lexer": "ipython3",
   "version": "3.8.5"
  }
 },
 "nbformat": 4,
 "nbformat_minor": 5
}
