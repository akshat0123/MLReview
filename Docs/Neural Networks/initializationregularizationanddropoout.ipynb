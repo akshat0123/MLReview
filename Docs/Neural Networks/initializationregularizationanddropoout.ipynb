{
 "cells": [
  {
   "cell_type": "code",
   "execution_count": 1,
   "id": "adjusted-cuisine",
   "metadata": {},
   "outputs": [],
   "source": [
    "%load_ext tikzmagic"
   ]
  },
  {
   "cell_type": "markdown",
   "id": "rural-pioneer",
   "metadata": {},
   "source": [
    "---\n",
    "slug: \"/blog/initializationregularizationdropout\"\n",
    "date: \"2021-04-08\"\n",
    "title: \"Initialization, Regularization, and Dropout\"\n",
    "category: \"Deep Learning\"\n",
    "order: 3\n",
    "---"
   ]
  },
  {
   "cell_type": "markdown",
   "id": "informed-uganda",
   "metadata": {},
   "source": [
    "### Introduction"
   ]
  },
  {
   "cell_type": "markdown",
   "id": "victorian-letter",
   "metadata": {},
   "source": [
    "### Initialization"
   ]
  },
  {
   "cell_type": "markdown",
   "id": "metric-halloween",
   "metadata": {},
   "source": [
    "#### Random"
   ]
  },
  {
   "cell_type": "markdown",
   "id": "attempted-tyler",
   "metadata": {},
   "source": [
    "Random initialization just means setting the weights of a hidden layer to small random values before beginning training. \n",
    "A common setting is to simply use random weight values in the range $[0.0, 0.1]$."
   ]
  },
  {
   "cell_type": "markdown",
   "id": "accessory-subscription",
   "metadata": {},
   "source": [
    "#### Glorot/Xavier"
   ]
  },
  {
   "cell_type": "markdown",
   "id": "instant-array",
   "metadata": {},
   "source": [
    "This method of initialization was designed to prevent possible saturation of parameters during training when using sigmoid and tanh activation functions.\n",
    "Saturation occurs when hidden units become prematurely trapped at a particular value, causing learning to slow or not occur at all."
   ]
  },
  {
   "cell_type": "markdown",
   "id": "sublime-henry",
   "metadata": {},
   "source": [
    "$$\n",
    "\\begin{aligned}\n",
    "    W_{ij} &\\sim U\\left[ -\\sqrt{\\frac{1}{n}}, \\sqrt{\\frac{1}{n}} \\right]\\\\\n",
    "    U\\left[-a, a\\right] &= \\text{ uniform distribution in the interval } (-a, a)\\\\\n",
    "    n &= \\text{ the number of units in the previous layer}\\\\\n",
    "\\end{aligned}\n",
    "$$"
   ]
  },
  {
   "cell_type": "markdown",
   "id": "sweet-reconstruction",
   "metadata": {},
   "source": [
    "#### He"
   ]
  },
  {
   "cell_type": "markdown",
   "id": "introductory-museum",
   "metadata": {},
   "source": [
    "This method of initialization was also designed to prevent the possible saturation of parameters during training, but with a focus on the ReLU activation function."
   ]
  },
  {
   "cell_type": "markdown",
   "id": "cloudy-discussion",
   "metadata": {},
   "source": [
    "$$\n",
    "\\begin{aligned}\n",
    "    W_{ij} &\\sim U\\left[ -\\sqrt{\\frac{2}{n}}, \\sqrt{\\frac{2}{n}}\\right]\\\\\n",
    "    U\\left[-a, a\\right] &= \\text{ uniform distribution in the interval } (-a, a)\\\\\n",
    "    n &= \\text{ the number of units in the previous layer}\\\\\n",
    "\\end{aligned}\n",
    "$$"
   ]
  },
  {
   "cell_type": "markdown",
   "id": "induced-arthritis",
   "metadata": {},
   "source": [
    "### Regularization"
   ]
  },
  {
   "cell_type": "markdown",
   "id": "designed-exhaust",
   "metadata": {},
   "source": [
    "### Dropout"
   ]
  },
  {
   "cell_type": "markdown",
   "id": "national-remark",
   "metadata": {},
   "source": [
    "### Resources"
   ]
  },
  {
   "cell_type": "markdown",
   "id": "durable-latest",
   "metadata": {},
   "source": [
    "- Glorot, X., & Bengio, Y. (2010). *Understanding the difficulty of training deep feedforward neural networks*. In Proceedings of the Thirteenth International Conference on Artificial Intelligence and Statistics (pp. 249–256). PMLR.\n",
    "- He, K., Zhang, X., Ren, S., & Sun, J. (2015). *Delving Deep into Rectifiers: Surpassing Human-Level Performance on ImageNet Classification*. In Proceedings of the 2015 IEEE International Conference on Computer Vision (ICCV) (pp. 1026–1034). IEEE Computer Society."
   ]
  }
 ],
 "metadata": {
  "kernelspec": {
   "display_name": "Python 3",
   "language": "python",
   "name": "python3"
  },
  "language_info": {
   "codemirror_mode": {
    "name": "ipython",
    "version": 3
   },
   "file_extension": ".py",
   "mimetype": "text/x-python",
   "name": "python",
   "nbconvert_exporter": "python",
   "pygments_lexer": "ipython3",
   "version": "3.8.5"
  }
 },
 "nbformat": 4,
 "nbformat_minor": 5
}
